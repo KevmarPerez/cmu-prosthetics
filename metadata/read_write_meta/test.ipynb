{
 "cells": [
  {
   "cell_type": "code",
   "execution_count": 29,
   "metadata": {},
   "outputs": [],
   "source": [
    "from exif import Image\n",
    "import os\n",
    "from rembg.bg import remove\n",
    "import numpy as np\n",
    "# from PIL import Image, ImageFile\n",
    "\n",
    "ImageFile.LOAD_TRUNCATED_IMAGES = True\n",
    "\n",
    "# folder_path = 'in_image1.jpg'\n",
    "image_filename = 'in_image1.jpg'\n",
    "\n",
    "with open (image_filename, 'rb') as img_file:\n",
    "    img_in = Image(img_file)"
   ]
  },
  {
   "cell_type": "code",
   "execution_count": 33,
   "metadata": {},
   "outputs": [],
   "source": [
    "import PIL\n",
    "def as_pil(image, n=0):\n",
    "    \"\"\" Function to remove background images and save the output in temp folder \"\"\"\n",
    "    input_file = PIL.Image.open(image)\n",
    "    output = remove(input_file).convert('RGB')\n",
    "    output.save('image_out.jpg')"
   ]
  },
  {
   "cell_type": "code",
   "execution_count": 35,
   "metadata": {},
   "outputs": [],
   "source": [
    "# folder_path = 'in_image1.jpg'\n",
    "# image_filename = 'out_image.jpg'\n",
    "as_pil('in_image1.jpg')\n",
    "with open ('image_out.jpg', 'rb') as img_file:\n",
    "    img_out = Image(img_file)"
   ]
  },
  {
   "cell_type": "code",
   "execution_count": null,
   "metadata": {},
   "outputs": [],
   "source": [
    "# listing all the EXIF tags contained in the image\n",
    "# save all the attributes in a dictionary\n",
    "ls = sorted(img_in.list_all())\n",
    "print(ls)\n",
    "new_dict = dict()\n",
    "attr_ls = img.list_all()\n",
    "for attr in ls:\n",
    "    try:\n",
    "        new_dict[attr] = img_in.get(attr)\n",
    "        # print(f'{attr} : {img_in.get(attr)}')\n",
    "    except:\n",
    "        pass\n",
    "\n",
    "\n",
    "# print(new_dict)"
   ]
  },
  {
   "cell_type": "code",
   "execution_count": 62,
   "metadata": {},
   "outputs": [
    {
     "name": "stdout",
     "output_type": "stream",
     "text": [
      "['image_description', 'make', 'model', 'orientation', 'x_resolution', 'y_resolution', 'resolution_unit', 'software', 'datetime', 'y_and_c_positioning', '_exif_ifd_pointer', 'compression', 'jpeg_interchange_format', 'jpeg_interchange_format_length', 'exposure_time', 'f_number', 'exposure_program', 'photographic_sensitivity', 'exif_version', 'datetime_original', 'datetime_digitized', 'components_configuration', 'exposure_bias_value', 'metering_mode', 'light_source', 'flash', 'focal_length', 'subsec_time', 'subsec_time_original', 'subsec_time_digitized', 'flashpix_version', 'color_space', 'pixel_x_dimension', 'pixel_y_dimension', '_interoperability_ifd_Pointer', 'exposure_mode', 'white_balance', 'digital_zoom_ratio', 'focal_length_in_35mm_film', 'scene_capture_type']\n"
     ]
    }
   ],
   "source": [
    "print(attr_ls)"
   ]
  },
  {
   "cell_type": "code",
   "execution_count": 68,
   "metadata": {},
   "outputs": [],
   "source": [
    "# modify image metadata: update\n",
    "for new_attr in attr_ls:\n",
    "    # img_out[new_attr] = new_dict[new_attr]\n",
    "    try:\n",
    "        # print(new_dict[new_attr])\n",
    "        img_out[new_attr] = new_dict[new_attr]\n",
    "    except:\n",
    "        pass"
   ]
  },
  {
   "cell_type": "code",
   "execution_count": 69,
   "metadata": {},
   "outputs": [
    {
     "name": "stdout",
     "output_type": "stream",
     "text": [
      "_exif_ifd_pointer : 414\n",
      "_gps_ifd_pointer : 211\n",
      "datetime : 2022:07:23 15:15:25\n",
      "image_description : \n",
      "make : INFINIX MOBILITY LIMITED\n",
      "model : Infinix X652C\n",
      "software : MediaTek Camera Application\n"
     ]
    }
   ],
   "source": [
    "# no background image\n",
    "nobg_ls =  sorted(img_out.list_all())\n",
    "for attr in nobg_ls:\n",
    "    # print(attr)\n",
    "    try:\n",
    "        # new_dict[attr] = img_in.get(attr)\n",
    "        print(f'{attr} : {img_out.get(attr)}')\n",
    "    except:\n",
    "        pass"
   ]
  },
  {
   "cell_type": "code",
   "execution_count": null,
   "metadata": {},
   "outputs": [],
   "source": []
  }
 ],
 "metadata": {
  "kernelspec": {
   "display_name": "Python 3.9.6 ('venv': venv)",
   "language": "python",
   "name": "python3"
  },
  "language_info": {
   "codemirror_mode": {
    "name": "ipython",
    "version": 3
   },
   "file_extension": ".py",
   "mimetype": "text/x-python",
   "name": "python",
   "nbconvert_exporter": "python",
   "pygments_lexer": "ipython3",
   "version": "3.9.6"
  },
  "orig_nbformat": 4,
  "vscode": {
   "interpreter": {
    "hash": "5eea641e3c137f5b5bc1ee6bca90581668c1b0ef68b2626b43f1f2509a9aff8a"
   }
  }
 },
 "nbformat": 4,
 "nbformat_minor": 2
}
