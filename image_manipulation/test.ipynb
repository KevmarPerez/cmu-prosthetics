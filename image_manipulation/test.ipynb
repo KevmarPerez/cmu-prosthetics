{
 "cells": [
  {
   "cell_type": "code",
   "execution_count": 2,
   "metadata": {},
   "outputs": [],
   "source": [
    "import os\n",
    "import cv2\n",
    "\n",
    "from rembg.bg import remove\n",
    "import numpy as np\n",
    "from PIL import Image, ImageFile\n",
    "from tqdm import tqdm\n",
    "\n",
    "ImageFile.LOAD_TRUNCATED_IMAGES = True"
   ]
  },
  {
   "cell_type": "code",
   "execution_count": 4,
   "metadata": {},
   "outputs": [],
   "source": [
    "parent_dir = '..\\\\images\\\\image_manipulation'\n",
    "input_path = os.path.join(parent_dir, 'input')\n",
    "output_path = os.path.join(parent_dir, 'output')\n",
    "temp_path = os.path.join(parent_dir, 'temp')\n",
    "input_nobg = os.path.join(parent_dir, 'input_nobg')\n",
    "\n",
    "def create_dirs(path):\n",
    "    # path = os.path.join(parent_dir, n_path)\n",
    "    try:\n",
    "        if not os.path.exists(path):\n",
    "            os.makedirs(path)\n",
    "    except:\n",
    "        pass\n",
    "\n",
    "create_dirs(input_path)\n",
    "create_dirs(output_path)\n",
    "create_dirs(temp_path)\n",
    "create_dirs(input_nobg)"
   ]
  },
  {
   "cell_type": "code",
   "execution_count": 10,
   "metadata": {},
   "outputs": [],
   "source": [
    "cap = cv2.VideoCapture('vid.mp4')\n",
    "\n",
    "vid_status = cap.isOpened()\n",
    "# check if file is opened successfully\n",
    "if(vid_status == False):\n",
    "    print(\"Error opening video file\")\n",
    "currentframe = 0\n",
    "while(vid_status):\n",
    "    ret, frame = cap.read()\n",
    "\n",
    "    if ret == True:\n",
    "        (h, w) = frame.shape[:2]\n",
    "        rot = cv2.rotate(frame, cv2.ROTATE_180)\n",
    "        ratio = 720/h\n",
    "        dim = (int(w*ratio), 720)\n",
    "        res = cv2.resize(rot, dim)\n",
    "        # res = cv2.warpAffine(res, rot, (int(h*2), int(w*2)))\n",
    "\n",
    "        name = f\"{input_path}/image-{str(currentframe).zfill(4)}.png\"\n",
    "        if currentframe%5 == 0:\n",
    "            cv2.imwrite(name, res)\n",
    "        cv2.imshow('Frame', res)\n",
    "\n",
    "        if cv2.waitKey(1) & 0xFF ==ord('q'):\n",
    "            break\n",
    "\n",
    "        currentframe +=1\n",
    "    else:\n",
    "        break\n",
    "cap.release()\n",
    "cv2.destroyAllWindows()"
   ]
  },
  {
   "cell_type": "code",
   "execution_count": 13,
   "metadata": {},
   "outputs": [
    {
     "name": "stderr",
     "output_type": "stream",
     "text": [
      "100%|██████████| 185/185 [09:05<00:00,  2.95s/it]\n"
     ]
    }
   ],
   "source": [
    "def as_pil(image, n=0):\n",
    "    \"\"\" Function to remove background images and save the output in temp folder \"\"\"\n",
    "    input_file = Image.open(os.path.join(input_path, image))\n",
    "    output = remove(input_file).convert('RGB')\n",
    "    output.save(os.path.join(input_nobg, f'image{n}.jpg'))\n",
    "\n",
    "imgs = os.listdir(input_path)\n",
    "index = 0\n",
    "# remove abackground in all images\n",
    "for i in tqdm(range(0, len(imgs), 2)):\n",
    "    as_pil(imgs[i], index)\n",
    "    index += 1"
   ]
  },
  {
   "cell_type": "code",
   "execution_count": null,
   "metadata": {},
   "outputs": [],
   "source": [
    "sorted(os.listdir(input_path))"
   ]
  }
 ],
 "metadata": {
  "kernelspec": {
   "display_name": "Python 3.9.6 ('venv': venv)",
   "language": "python",
   "name": "python3"
  },
  "language_info": {
   "codemirror_mode": {
    "name": "ipython",
    "version": 3
   },
   "file_extension": ".py",
   "mimetype": "text/x-python",
   "name": "python",
   "nbconvert_exporter": "python",
   "pygments_lexer": "ipython3",
   "version": "3.9.6"
  },
  "orig_nbformat": 4,
  "vscode": {
   "interpreter": {
    "hash": "5eea641e3c137f5b5bc1ee6bca90581668c1b0ef68b2626b43f1f2509a9aff8a"
   }
  }
 },
 "nbformat": 4,
 "nbformat_minor": 2
}
