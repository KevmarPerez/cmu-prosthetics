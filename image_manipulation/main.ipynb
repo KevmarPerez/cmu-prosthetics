{
 "cells": [
  {
   "cell_type": "markdown",
   "metadata": {},
   "source": [
    "# Introduction to OpenCV"
   ]
  },
  {
   "cell_type": "markdown",
   "metadata": {},
   "source": [
    "### Reading and image"
   ]
  },
  {
   "cell_type": "code",
   "execution_count": 1,
   "metadata": {},
   "outputs": [],
   "source": [
    "import cv2\n",
    "import numpy as np\n",
    "import os\n",
    "\n",
    "cap = cv2.VideoCapture('vid.mp4')\n",
    "\n",
    "try:\n",
    "    if not os.path.exists('images'):\n",
    "        os.makedirs('images')\n",
    "except:\n",
    "    print ('Error: Creating directory of data')\n",
    "\n",
    "vid_status = cap.isOpened()\n",
    "# check if file is opened successfully\n",
    "if(vid_status == False):\n",
    "    print(\"Error opening video file\")\n",
    "currentframe = 0\n",
    "while(vid_status):\n",
    "    ret, frame = cap.read()\n",
    "\n",
    "    if ret == True:\n",
    "        (h, w) = frame.shape[:2]\n",
    "        rot = cv2.rotate(frame, cv2.ROTATE_180)\n",
    "        ratio = 720/h\n",
    "        dim = (int(w*ratio), 720)\n",
    "        res = cv2.resize(rot, dim)\n",
    "        # res = cv2.warpAffine(res, rot, (int(h*2), int(w*2)))\n",
    "\n",
    "        name = f\"./images/image-{currentframe}.png\"\n",
    "        # cv2.imwrite(name, res)\n",
    "        cv2.imshow('Frame', res)\n",
    "\n",
    "        if cv2.waitKey(1) & 0xFF ==ord('q'):\n",
    "            break\n",
    "\n",
    "        currentframe +=1\n",
    "    else:\n",
    "        break\n",
    "cap.release()\n",
    "cv2.destroyAllWindows()"
   ]
  },
  {
   "cell_type": "markdown",
   "metadata": {},
   "source": [
    "### extracting RGB values of a pixel"
   ]
  },
  {
   "cell_type": "code",
   "execution_count": 2,
   "metadata": {},
   "outputs": [
    {
     "name": "stdout",
     "output_type": "stream",
     "text": [
      "R = 255, G = 254, B = 253\n",
      "B = 253\n"
     ]
    }
   ],
   "source": [
    "#randomly chose a pixel by declaring height\n",
    "(B ,R, G)= image[100,100]\n",
    "\n",
    "# Displaying the pixel values\n",
    "print(\"R = {}, G = {}, B = {}\".format(R, G, B))\n",
    "  \n",
    "# We can also pass the channel to extract \n",
    "# the value for a specific channel\n",
    "B = image[100, 100, 0]\n",
    "print(\"B = {}\".format(B))"
   ]
  },
  {
   "cell_type": "markdown",
   "metadata": {},
   "source": [
    "### extracting region of interest and resizing"
   ]
  },
  {
   "cell_type": "code",
   "execution_count": 3,
   "metadata": {},
   "outputs": [
    {
     "ename": "",
     "evalue": "",
     "output_type": "error",
     "traceback": [
      "The Kernel crashed while executing code in the the current cell or a previous cell. Please review the code in the cell(s) to identify a possible cause of the failure. Click <a href='https://aka.ms/vscodeJupyterKernelCrash'>here</a> for more info. View Jupyter <a href='command:jupyter.viewOutput'>log</a> for further details."
     ]
    }
   ],
   "source": [
    "# extracting region of interest  \n",
    "# by slicing the pixels of the image\n",
    "roi = image[100: 500, 200 :700]\n",
    "\n",
    "# Resizing: get ratio, create tuple, resize image\n",
    "ratio = 800/w\n",
    "dim = (800, int(h*ratio))\n",
    "resize_aspect = cv2.resize(image, dim)"
   ]
  }
 ],
 "metadata": {
  "kernelspec": {
   "display_name": "Python 3.9.6 ('venv': venv)",
   "language": "python",
   "name": "python3"
  },
  "language_info": {
   "codemirror_mode": {
    "name": "ipython",
    "version": 3
   },
   "file_extension": ".py",
   "mimetype": "text/x-python",
   "name": "python",
   "nbconvert_exporter": "python",
   "pygments_lexer": "ipython3",
   "version": "3.9.6"
  },
  "orig_nbformat": 4,
  "vscode": {
   "interpreter": {
    "hash": "5eea641e3c137f5b5bc1ee6bca90581668c1b0ef68b2626b43f1f2509a9aff8a"
   }
  }
 },
 "nbformat": 4,
 "nbformat_minor": 2
}
