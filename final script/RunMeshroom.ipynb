{
  "cells": [
    {
      "cell_type": "markdown",
      "metadata": {
        "id": "VcPxWXTzGndk"
      },
      "source": [
        "#Download rembg"
      ]
    },
    {
      "cell_type": "code",
      "execution_count": null,
      "metadata": {
        "id": "VHXahnRkGqBD",
        "vscode": {
          "languageId": "python"
        }
      },
      "outputs": [],
      "source": [
        "!pip install rembg\n",
        "# !pip install Pillow"
      ]
    },
    {
      "cell_type": "markdown",
      "metadata": {
        "id": "zTI6AlUXd-_M"
      },
      "source": [
        "#Google Drive\n",
        "Connect to Google Drive, so that you can import and export files from there.\n"
      ]
    },
    {
      "cell_type": "code",
      "execution_count": 1,
      "metadata": {
        "colab": {
          "base_uri": "https://localhost:8080/"
        },
        "id": "2wodsIcpYbDR",
        "outputId": "2ac77f4b-84dc-492c-e6a8-28ff2ef5ab60",
        "vscode": {
          "languageId": "python"
        }
      },
      "outputs": [
        {
          "name": "stdout",
          "output_type": "stream",
          "text": [
            "Drive already mounted at /content/drive; to attempt to forcibly remount, call drive.mount(\"/content/drive\", force_remount=True).\n"
          ]
        }
      ],
      "source": [
        "from google.colab import drive\n",
        "drive.mount('/content/drive')"
      ]
    },
    {
      "cell_type": "markdown",
      "metadata": {
        "id": "RD3eZSm6d6NZ"
      },
      "source": [
        "#Setup\n",
        "Add paths for input and output. Your images should be in their own folder. Or just check use sample data, and the input and ouput will be covered for you. For ease of use, I recommend mounting your Google Drive (see section below), then setting your input and output locations to somewhere inside your drive.\n"
      ]
    },
    {
      "cell_type": "code",
      "execution_count": 2,
      "metadata": {
        "id": "Ol5uQcZkLvA3",
        "vscode": {
          "languageId": "python"
        }
      },
      "outputs": [],
      "source": [
        "image_folder_path = \"/content/drive/MyDrive/Colab Notebooks/Meshroom/photos/arm_bare_2/input\" #@param {type:\"string\"}\n",
        "no_background_folder_path = \"/content/drive/MyDrive/Colab Notebooks/Meshroom/photos/arm_bare_2/input_nobg\" #@param {type:\"string\"}\n",
        "output_bg = \"/content/drive/MyDrive/Colab Notebooks/Meshroom/photos/arm_bare_2/output_bg\" #@param {type:\"string\"}\n",
        "output_nobg = \"/content/drive/MyDrive/Colab Notebooks/Meshroom/photos/arm_bare_2/output_nobg\" #@param {type:\"string\"}\n",
        "video = \"/content/drive/MyDrive/Colab Notebooks/Meshroom/photos/arm_bare_2/video/vid.mp4\" #@param {type:\"string\"}\n",
        "use_sample_data = False #@param {type:\"boolean\"}\n"
      ]
    },
    {
      "cell_type": "markdown",
      "metadata": {
        "id": "QiZhos-DDMXB"
      },
      "source": [
        "# imports for various modules"
      ]
    },
    {
      "cell_type": "code",
      "execution_count": 3,
      "metadata": {
        "id": "-XAwkPIeAtbC",
        "vscode": {
          "languageId": "python"
        }
      },
      "outputs": [],
      "source": [
        "import os\n",
        "import cv2\n",
        "# import PIL\n",
        "\n",
        "from rembg.bg import remove\n",
        "import numpy as np\n",
        "from PIL import Image, ImageFile\n",
        "from tqdm import tqdm\n",
        "\n",
        "ImageFile.LOAD_TRUNCATED_IMAGES = True"
      ]
    },
    {
      "cell_type": "markdown",
      "metadata": {
        "id": "RsxzdzwtPVCA"
      },
      "source": [
        "#Download Meshroom and sample data(if needed)."
      ]
    },
    {
      "cell_type": "code",
      "execution_count": null,
      "metadata": {
        "id": "cQgXdvk-qUvi",
        "vscode": {
          "languageId": "python"
        }
      },
      "outputs": [],
      "source": [
        "# if use_sample_data:\n",
        "#   !git clone https://github.com/alicevision/dataset_buddha\n",
        "#   image_folder_path = './dataset_buddha/buddha'\n",
        "#   output_path = './buddha_out'\n",
        "\n",
        "!wget -N https://github.com/alicevision/meshroom/releases/download/v2021.1.0/Meshroom-2021.1.0-linux-cuda10.tar.gz\n",
        "!mkdir meshroom\n",
        "!tar xzf Meshroom-2021.1.0-linux-cuda10.tar.gz -C ./meshroom"
      ]
    },
    {
      "cell_type": "markdown",
      "metadata": {
        "id": "QXs7F8GXBE5v"
      },
      "source": [
        "# covert video to frames"
      ]
    },
    {
      "cell_type": "code",
      "execution_count": null,
      "metadata": {
        "id": "dsY4OW6iAtbs",
        "vscode": {
          "languageId": "python"
        }
      },
      "outputs": [],
      "source": [
        "cap = cv2.VideoCapture(video)\n",
        "\n",
        "vid_status = cap.isOpened()\n",
        "# check if file is opened successfully\n",
        "if(vid_status == False):\n",
        "    print(\"Error opening video file\")\n",
        "currentframe = 0\n",
        "while(vid_status):\n",
        "    ret, frame = cap.read()\n",
        "\n",
        "    if ret == True:\n",
        "        (h, w) = frame.shape[:2]\n",
        "        rot = cv2.rotate(frame, cv2.ROTATE_180)\n",
        "        ratio = 720/h\n",
        "        dim = (int(w*ratio), 720)\n",
        "        res = cv2.resize(rot, dim)\n",
        "        # res = cv2.warpAffine(res, rot, (int(h*2), int(w*2)))\n",
        "\n",
        "        name = f\"{image_folder_path}/image-{str(currentframe).zfill(4)}.png\"\n",
        "        if currentframe%5 == 0:\n",
        "            cv2.imwrite(name, res)\n",
        "        # cv2.imshow('Frame', res)\n",
        "\n",
        "        if cv2.waitKey(1) & 0xFF ==ord('q'):\n",
        "            break\n",
        "\n",
        "        currentframe +=1\n",
        "    else:\n",
        "        break\n",
        "cap.release()\n",
        "cv2.destroyAllWindows()"
      ]
    },
    {
      "cell_type": "code",
      "execution_count": null,
      "metadata": {
        "id": "3qZ5GuwpJrD9",
        "vscode": {
          "languageId": "python"
        }
      },
      "outputs": [],
      "source": [
        "imgs = os.listdir(image_folder_path)\n",
        "for i in range(len(imgs)):\n",
        "  print(imgs[i])"
      ]
    },
    {
      "cell_type": "markdown",
      "metadata": {
        "id": "_659NjpdBR_8"
      },
      "source": [
        "# Remove background"
      ]
    },
    {
      "cell_type": "code",
      "execution_count": null,
      "metadata": {
        "colab": {
          "base_uri": "https://localhost:8080/",
          "height": 588
        },
        "id": "ea9Q7B-v_uUy",
        "outputId": "a8ad0d7b-8c39-4f88-95be-fd8d3de1e745",
        "vscode": {
          "languageId": "python"
        }
      },
      "outputs": [],
      "source": [
        "imgs = os.listdir(image_folder_path)\n",
        "\n",
        "img_file_path = os.path.join(image_folder_path, imgs[0])\n",
        "image = Image.open(img_file_path)\n",
        "remove(image)"
      ]
    },
    {
      "cell_type": "code",
      "execution_count": null,
      "metadata": {
        "colab": {
          "base_uri": "https://localhost:8080/",
          "height": 398
        },
        "id": "9EqfDZT-Atby",
        "outputId": "cc57f281-ad13-4d9b-d398-6f7a83fecca6",
        "vscode": {
          "languageId": "python"
        }
      },
      "outputs": [],
      "source": [
        "def as_pil(image, n=0):\n",
        "    \"\"\" Function to remove background images and save the output in temp folder \"\"\"\n",
        "    input_file = Image.open(os.path.join(image_folder_path, image))\n",
        "    # input_file = Image.open(image)\n",
        "    output = remove(image).convert('RGB')\n",
        "    output.save(os.path.join(no_background_folder_path, f'image{str(n).zfill(4)}.jpg'))\n",
        "\n",
        "imgs = os.listdir(image_folder_path)\n",
        "index = 0\n",
        "# remove abackground in all images\n",
        "for i in tqdm(range(0, len(imgs))):\n",
        "    as_pil(imgs[i], index)\n",
        "    index += 1"
      ]
    },
    {
      "cell_type": "markdown",
      "metadata": {
        "id": "RG1By3bJ135H"
      },
      "source": [
        "#Meshing with background\n",
        "Use the form in setup to specify an input and output path, or check sample data to try it out."
      ]
    },
    {
      "cell_type": "code",
      "execution_count": null,
      "metadata": {
        "colab": {
          "background_save": true
        },
        "id": "7s_5910y135I",
        "vscode": {
          "languageId": "python"
        }
      },
      "outputs": [],
      "source": [
        "# !mkdir '{output_path}'\n",
        "!./meshroom/Meshroom-2021.1.0-av2.4.0-centos7-cuda10.2/meshroom_batch --input '{image_folder_path}' --output '{output_bg}'\n"
      ]
    },
    {
      "cell_type": "markdown",
      "metadata": {
        "id": "x2m5DLnC1q1m"
      },
      "source": [
        "#Meshing with no background\n",
        "Use the form in setup to specify an input and output path, or check sample data to try it out."
      ]
    },
    {
      "cell_type": "code",
      "execution_count": null,
      "metadata": {
        "colab": {
          "base_uri": "https://localhost:8080/"
        },
        "id": "eM6_mPxd1q1n",
        "outputId": "593e94a6-22df-48d1-cdd7-32b9608a68f8",
        "vscode": {
          "languageId": "python"
        }
      },
      "outputs": [],
      "source": [
        "# !mkdir '{output_path}'\n",
        "!./meshroom/Meshroom-2021.1.0-av2.4.0-centos7-cuda10.2/meshroom_batch --input '{no_background_folder_path}' --output '{output_nobg}'\n"
      ]
    }
  ],
  "metadata": {
    "accelerator": "GPU",
    "colab": {
      "collapsed_sections": [],
      "provenance": []
    },
    "gpuClass": "standard",
    "kernelspec": {
      "display_name": "Python 3",
      "name": "python3"
    }
  },
  "nbformat": 4,
  "nbformat_minor": 0
}
